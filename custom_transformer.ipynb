{
 "cells": [
  {
   "cell_type": "code",
   "execution_count": 1,
   "metadata": {},
   "outputs": [],
   "source": [
    "import torch"
   ]
  },
  {
   "cell_type": "code",
   "execution_count": 16,
   "metadata": {},
   "outputs": [],
   "source": [
    "class PositionalEncoding(torch.nn.Module):\n",
    "    def __init__(self, max_sentence_length, d_model):\n",
    "        super(PositionalEncoding, self).__init__()\n",
    "\n",
    "        self.pe = torch.zeros((max_sentence_length, d_model)) # Initalize positional encoding with zeros\n",
    "        \n",
    "        for pos in range(max_sentence_length):\n",
    "            for i in range(int(d_model/2)):\n",
    "                encoding = torch.tensor(pos / (10_000)**(2*i/d_model))\n",
    "                self.pe[pos, 2*i] = torch.sin(encoding)\n",
    "                self.pe[pos, 2*i+1] = torch.cos(encoding)\n",
    "                \n",
    "    def forward(self, input):\n",
    "        return input + self.pe"
   ]
  },
  {
   "cell_type": "code",
   "execution_count": 21,
   "metadata": {},
   "outputs": [],
   "source": [
    "directory_length = 10_000\n",
    "d_model = 512 # Model dimension, embedding dim\n",
    "number_of_data_samples = 64\n",
    "max_sentence_length = 128"
   ]
  },
  {
   "cell_type": "code",
   "execution_count": 22,
   "metadata": {},
   "outputs": [],
   "source": [
    "# Create source and target data\n",
    "source_data = torch.randint(1, directory_length, (number_of_data_samples, max_sentence_length))\n",
    "target_data = torch.randint(1, directory_length, (number_of_data_samples, max_sentence_length))"
   ]
  },
  {
   "cell_type": "code",
   "execution_count": 23,
   "metadata": {},
   "outputs": [],
   "source": [
    "embedding = torch.nn.Embedding(directory_length, d_model)"
   ]
  },
  {
   "cell_type": "code",
   "execution_count": 24,
   "metadata": {},
   "outputs": [],
   "source": [
    "source_embedding = embedding(source_data)\n",
    "target_embedding = embedding(target_data)"
   ]
  },
  {
   "cell_type": "code",
   "execution_count": 25,
   "metadata": {},
   "outputs": [],
   "source": [
    "positional_encoding = PositionalEncoding(max_sentence_length, d_model)   "
   ]
  },
  {
   "cell_type": "code",
   "execution_count": 29,
   "metadata": {},
   "outputs": [
    {
     "data": {
      "text/plain": [
       "torch.Size([64, 128, 512])"
      ]
     },
     "execution_count": 29,
     "metadata": {},
     "output_type": "execute_result"
    }
   ],
   "source": [
    "positional_encoding.forward(source_embedding).shape"
   ]
  }
 ],
 "metadata": {
  "kernelspec": {
   "display_name": "venv",
   "language": "python",
   "name": "python3"
  },
  "language_info": {
   "codemirror_mode": {
    "name": "ipython",
    "version": 3
   },
   "file_extension": ".py",
   "mimetype": "text/x-python",
   "name": "python",
   "nbconvert_exporter": "python",
   "pygments_lexer": "ipython3",
   "version": "3.10.12"
  }
 },
 "nbformat": 4,
 "nbformat_minor": 2
}
