{
 "cells": [
  {
   "cell_type": "code",
   "execution_count": 1,
   "metadata": {},
   "outputs": [],
   "source": [
    "import torch"
   ]
  },
  {
   "cell_type": "code",
   "execution_count": null,
   "metadata": {},
   "outputs": [],
   "source": [
    "class PositionalEncoding(torch.nn.Module):\n",
    "    def __init__(self, max_sentence_length, d_model):\n",
    "        super(PositionalEncoding, self).__init__()\n",
    "\n",
    "        '''\n",
    "        Implementation of positional encoding using for loop. The slow way.\n",
    "        \n",
    "        self.pe = torch.zeros((max_sentence_length, d_model)) # Initalize positional encoding with zeros\n",
    "        for pos in range(max_sentence_length):\n",
    "            for i in range(int(d_model/2)):\n",
    "                encoding = torch.tensor(pos / (10_000)**(2*i/d_model))\n",
    "                self.pe[pos, 2*i] = torch.sin(encoding)\n",
    "                self.pe[pos, 2*i+1] = torch.cos(encoding)\n",
    "        '''\n",
    "        \n",
    "        # Torch version\n",
    "        positions = torch.arange(0, max_sentence_length).unsqueeze(1) # Create positions from 0 to max_sentence_length \n",
    "        positions = positions.expand(max_sentence_length, d_model) # Expand its dims so it can be divided by torch with embedding dim\n",
    "        \n",
    "        embedding_positions = torch.arange(0, d_model)\n",
    "        \n",
    "        div_term = (10_000)**(2*embedding_positions/d_model) # Create division terms for each embedding value\n",
    "        \n",
    "        self.pe = torch.zeros((max_sentence_length, d_model)) # Initialize positional encoding tensor with zeros\n",
    "        \n",
    "        # Apply positional encoding\n",
    "        self.pe[:, 0::2] = torch.sin(positions[:, 0::2] / div_term[0::2])\n",
    "        self.pe[:, 1::2] = torch.cos(positions[:, 1::2] / div_term[1::2])\n",
    "        \n",
    "                \n",
    "    def forward(self, input):\n",
    "        return input + self.pe"
   ]
  },
  {
   "cell_type": "code",
   "execution_count": 3,
   "metadata": {},
   "outputs": [],
   "source": [
    "directory_length = 10_000\n",
    "d_model = 512 # Model dimension, embedding dim\n",
    "number_of_data_samples = 64\n",
    "max_sentence_length = 128"
   ]
  },
  {
   "cell_type": "code",
   "execution_count": 4,
   "metadata": {},
   "outputs": [],
   "source": [
    "# Create source and target data\n",
    "source_data = torch.randint(1, directory_length, (number_of_data_samples, max_sentence_length))\n",
    "target_data = torch.randint(1, directory_length, (number_of_data_samples, max_sentence_length))"
   ]
  },
  {
   "cell_type": "code",
   "execution_count": 5,
   "metadata": {},
   "outputs": [],
   "source": [
    "embedding = torch.nn.Embedding(directory_length, d_model)"
   ]
  },
  {
   "cell_type": "code",
   "execution_count": 6,
   "metadata": {},
   "outputs": [],
   "source": [
    "source_embedding = embedding(source_data)\n",
    "target_embedding = embedding(target_data)"
   ]
  },
  {
   "cell_type": "code",
   "execution_count": 30,
   "metadata": {},
   "outputs": [],
   "source": [
    "positional_encoding = PositionalEncoding(max_sentence_length, d_model)   "
   ]
  },
  {
   "cell_type": "code",
   "execution_count": 31,
   "metadata": {},
   "outputs": [
    {
     "data": {
      "text/plain": [
       "torch.Size([64, 128, 512])"
      ]
     },
     "execution_count": 31,
     "metadata": {},
     "output_type": "execute_result"
    }
   ],
   "source": [
    "positional_encoding.forward(source_embedding).shape"
   ]
  }
 ],
 "metadata": {
  "kernelspec": {
   "display_name": "venv",
   "language": "python",
   "name": "python3"
  },
  "language_info": {
   "codemirror_mode": {
    "name": "ipython",
    "version": 3
   },
   "file_extension": ".py",
   "mimetype": "text/x-python",
   "name": "python",
   "nbconvert_exporter": "python",
   "pygments_lexer": "ipython3",
   "version": "3.10.12"
  }
 },
 "nbformat": 4,
 "nbformat_minor": 2
}
